{
 "cells": [
  {
   "cell_type": "code",
   "execution_count": 1,
   "id": "2464fdd4-7f00-486f-b830-25ebdb4e861e",
   "metadata": {},
   "outputs": [],
   "source": [
    "import numpy as np"
   ]
  },
  {
   "cell_type": "markdown",
   "id": "733c8dff-74fe-4181-865d-ec6f6b33b25a",
   "metadata": {},
   "source": [
    "## Data types and Attribute"
   ]
  },
  {
   "cell_type": "code",
   "execution_count": null,
   "id": "0204697e-fcf8-43ab-a188-744242eca8df",
   "metadata": {},
   "outputs": [],
   "source": [
    "# a1- 1d  array, vector\n",
    "# a2- 1d array, matrix\n",
    "# a3- 1d array, matrix"
   ]
  },
  {
   "cell_type": "code",
   "execution_count": 3,
   "id": "588edb80-035f-4060-84fe-1e2f08b5fbf0",
   "metadata": {},
   "outputs": [
    {
     "data": {
      "text/plain": [
       "array([1, 2, 3])"
      ]
     },
     "execution_count": 3,
     "metadata": {},
     "output_type": "execute_result"
    }
   ],
   "source": [
    "a1 = np.array([1,2,3])\n",
    "a1"
   ]
  },
  {
   "cell_type": "code",
   "execution_count": 21,
   "id": "e2deecf7-b8f0-4d4b-b2d3-a86f2ff0dbff",
   "metadata": {},
   "outputs": [
    {
     "data": {
      "text/plain": [
       "array([[1.  , 2.5 , 3.  ],\n",
       "       [4.01, 5.  , 6.  ]])"
      ]
     },
     "execution_count": 21,
     "metadata": {},
     "output_type": "execute_result"
    }
   ],
   "source": [
    "a2 = np.array([[1,2.5,3],\n",
    "             [4.01,5,6]])\n",
    "a2"
   ]
  },
  {
   "cell_type": "code",
   "execution_count": 22,
   "id": "e9c78ebd-f16b-42b0-8507-c297a5e80274",
   "metadata": {},
   "outputs": [
    {
     "data": {
      "text/plain": [
       "array([[[ 1,  2,  3],\n",
       "        [ 4,  5,  6]],\n",
       "\n",
       "       [[ 7,  8,  9],\n",
       "        [10, 11, 12]],\n",
       "\n",
       "       [[13, 14, 15],\n",
       "        [16, 17, 18]]])"
      ]
     },
     "execution_count": 22,
     "metadata": {},
     "output_type": "execute_result"
    }
   ],
   "source": [
    "a3= np.array([[[1,2,3],\n",
    "             [4,5,6]],\n",
    "             [[7,8,9],\n",
    "             [10,11,12]],\n",
    "               [[13,14,15],\n",
    "             [16,17,18]]])\n",
    "a3"
   ]
  },
  {
   "cell_type": "code",
   "execution_count": 23,
   "id": "b855afc0-af2a-4972-a010-8257fd735083",
   "metadata": {},
   "outputs": [
    {
     "data": {
      "text/plain": [
       "(3,)"
      ]
     },
     "execution_count": 23,
     "metadata": {},
     "output_type": "execute_result"
    }
   ],
   "source": [
    "a1.shape"
   ]
  },
  {
   "cell_type": "code",
   "execution_count": 24,
   "id": "aa0f27f0-2500-4588-bf94-46f0408d7e82",
   "metadata": {},
   "outputs": [
    {
     "data": {
      "text/plain": [
       "(2, 3)"
      ]
     },
     "execution_count": 24,
     "metadata": {},
     "output_type": "execute_result"
    }
   ],
   "source": [
    "a2.shape"
   ]
  },
  {
   "cell_type": "code",
   "execution_count": 25,
   "id": "28567fa7-a7f8-43b9-a4ff-f08add56b8f6",
   "metadata": {},
   "outputs": [
    {
     "data": {
      "text/plain": [
       "(3, 2, 3)"
      ]
     },
     "execution_count": 25,
     "metadata": {},
     "output_type": "execute_result"
    }
   ],
   "source": [
    "#z,x,y\n",
    "a3.shape"
   ]
  },
  {
   "cell_type": "code",
   "execution_count": 26,
   "id": "491c693b-1839-483c-a328-2023182ad6e3",
   "metadata": {},
   "outputs": [
    {
     "data": {
      "text/plain": [
       "(1, 2, 3)"
      ]
     },
     "execution_count": 26,
     "metadata": {},
     "output_type": "execute_result"
    }
   ],
   "source": [
    "#ndim => number of dimensions a1=>1D, a2=>2D, a3=3D\n",
    "a1.ndim, a2.ndim, a3.ndim"
   ]
  },
  {
   "cell_type": "code",
   "execution_count": 27,
   "id": "9ce2811a-1b95-4317-af8e-42cfc53d1fbc",
   "metadata": {},
   "outputs": [
    {
     "data": {
      "text/plain": [
       "array([[[ 1,  2,  3],\n",
       "        [ 4,  5,  6],\n",
       "        [ 7,  8,  9]],\n",
       "\n",
       "       [[10, 11, 12],\n",
       "        [13, 14, 15],\n",
       "        [16, 17, 18]]])"
      ]
     },
     "execution_count": 27,
     "metadata": {},
     "output_type": "execute_result"
    }
   ],
   "source": [
    "a4= np.array([[[1,2,3],\n",
    "             [4,5,6],\n",
    "             [7,8,9]],\n",
    "             [[10,11,12],\n",
    "               [13,14,15],\n",
    "             [16,17,18]]])\n",
    "a4"
   ]
  },
  {
   "cell_type": "code",
   "execution_count": 14,
   "id": "7eae7b74-1a4d-48a5-8e3b-a2f5bd6e0b89",
   "metadata": {},
   "outputs": [
    {
     "data": {
      "text/plain": [
       "3"
      ]
     },
     "execution_count": 14,
     "metadata": {},
     "output_type": "execute_result"
    }
   ],
   "source": [
    "a4.ndim"
   ]
  },
  {
   "cell_type": "code",
   "execution_count": 17,
   "id": "a4053e76-851e-4fb6-b8c0-8ff70bab5b7c",
   "metadata": {},
   "outputs": [
    {
     "data": {
      "text/plain": [
       "(2, 3, 3)"
      ]
     },
     "execution_count": 17,
     "metadata": {},
     "output_type": "execute_result"
    }
   ],
   "source": [
    "a4.shape"
   ]
  },
  {
   "cell_type": "code",
   "execution_count": 28,
   "id": "e1a7b228-7821-4fe2-8b7d-23aa57c10257",
   "metadata": {},
   "outputs": [
    {
     "data": {
      "text/plain": [
       "(dtype('int32'), dtype('float64'), dtype('int32'), dtype('int32'))"
      ]
     },
     "execution_count": 28,
     "metadata": {},
     "output_type": "execute_result"
    }
   ],
   "source": [
    "a1.dtype,a2.dtype,a3.dtype,a4.dtype"
   ]
  },
  {
   "cell_type": "code",
   "execution_count": 30,
   "id": "6306aebd-af9c-4466-bbd6-8938b756cea7",
   "metadata": {},
   "outputs": [
    {
     "data": {
      "text/plain": [
       "(3, 6, 18, 18)"
      ]
     },
     "execution_count": 30,
     "metadata": {},
     "output_type": "execute_result"
    }
   ],
   "source": [
    "#total values (no of elements)\n",
    "a1.size,a2.size,a3.size,a4.size"
   ]
  },
  {
   "cell_type": "code",
   "execution_count": 32,
   "id": "e75d16ad-0e18-420b-8cf5-a2696e2dfaa8",
   "metadata": {},
   "outputs": [
    {
     "data": {
      "text/plain": [
       "(numpy.ndarray, numpy.ndarray, numpy.ndarray, numpy.ndarray)"
      ]
     },
     "execution_count": 32,
     "metadata": {},
     "output_type": "execute_result"
    }
   ],
   "source": [
    "type(a1),type(a2),type(a3),type(a4)"
   ]
  },
  {
   "cell_type": "code",
   "execution_count": 33,
   "id": "cababb22-119b-42a5-a96b-1dd23206e6fa",
   "metadata": {},
   "outputs": [
    {
     "data": {
      "text/html": [
       "<div>\n",
       "<style scoped>\n",
       "    .dataframe tbody tr th:only-of-type {\n",
       "        vertical-align: middle;\n",
       "    }\n",
       "\n",
       "    .dataframe tbody tr th {\n",
       "        vertical-align: top;\n",
       "    }\n",
       "\n",
       "    .dataframe thead th {\n",
       "        text-align: right;\n",
       "    }\n",
       "</style>\n",
       "<table border=\"1\" class=\"dataframe\">\n",
       "  <thead>\n",
       "    <tr style=\"text-align: right;\">\n",
       "      <th></th>\n",
       "      <th>0</th>\n",
       "      <th>1</th>\n",
       "      <th>2</th>\n",
       "    </tr>\n",
       "  </thead>\n",
       "  <tbody>\n",
       "    <tr>\n",
       "      <th>0</th>\n",
       "      <td>1.00</td>\n",
       "      <td>2.5</td>\n",
       "      <td>3.0</td>\n",
       "    </tr>\n",
       "    <tr>\n",
       "      <th>1</th>\n",
       "      <td>4.01</td>\n",
       "      <td>5.0</td>\n",
       "      <td>6.0</td>\n",
       "    </tr>\n",
       "  </tbody>\n",
       "</table>\n",
       "</div>"
      ],
      "text/plain": [
       "      0    1    2\n",
       "0  1.00  2.5  3.0\n",
       "1  4.01  5.0  6.0"
      ]
     },
     "execution_count": 33,
     "metadata": {},
     "output_type": "execute_result"
    }
   ],
   "source": [
    "# create a dataframe from numpy array\n",
    "import pandas as pd\n",
    "df=pd.DataFrame(a2)\n",
    "df"
   ]
  },
  {
   "cell_type": "code",
   "execution_count": 34,
   "id": "9f91edf0-7a56-4008-87c9-5a4ac9366f34",
   "metadata": {},
   "outputs": [
    {
     "data": {
      "text/plain": [
       "array([1, 2, 3])"
      ]
     },
     "execution_count": 34,
     "metadata": {},
     "output_type": "execute_result"
    }
   ],
   "source": [
    "sample_array = np.array([1,2,3])\n",
    "sample_array"
   ]
  },
  {
   "cell_type": "code",
   "execution_count": 35,
   "id": "1b22e6ec-f325-4590-84fa-8cb7e1cb35a8",
   "metadata": {},
   "outputs": [
    {
     "data": {
      "text/plain": [
       "dtype('int32')"
      ]
     },
     "execution_count": 35,
     "metadata": {},
     "output_type": "execute_result"
    }
   ],
   "source": [
    "sample_array.dtype"
   ]
  },
  {
   "cell_type": "markdown",
   "id": "16c4d9a0-d4d4-4047-a3e2-15e29514d905",
   "metadata": {},
   "source": [
    "## Creating arrays\n",
    "# shift+tab=> click in between brackets like ones()\n",
    "ones = np.ones((2,3))\n"
   ]
  },
  {
   "cell_type": "code",
   "execution_count": 37,
   "id": "717a5be7-df86-4c4a-b90f-9ea192d408d8",
   "metadata": {},
   "outputs": [
    {
     "data": {
      "text/plain": [
       "array([[1., 1., 1.],\n",
       "       [1., 1., 1.]])"
      ]
     },
     "execution_count": 37,
     "metadata": {},
     "output_type": "execute_result"
    }
   ],
   "source": [
    "ones"
   ]
  },
  {
   "cell_type": "code",
   "execution_count": 39,
   "id": "dd5d0bb8-7852-4731-89a1-4f5fb0b3dca0",
   "metadata": {},
   "outputs": [
    {
     "data": {
      "text/plain": [
       "(dtype('float64'), numpy.ndarray)"
      ]
     },
     "execution_count": 39,
     "metadata": {},
     "output_type": "execute_result"
    }
   ],
   "source": [
    "ones.dtype, type(ones)"
   ]
  },
  {
   "cell_type": "code",
   "execution_count": 41,
   "id": "f2240c7a-f033-4b14-9732-c14cfc6af043",
   "metadata": {},
   "outputs": [
    {
     "data": {
      "text/plain": [
       "array([[0., 0., 0.],\n",
       "       [0., 0., 0.]])"
      ]
     },
     "execution_count": 41,
     "metadata": {},
     "output_type": "execute_result"
    }
   ],
   "source": [
    "zeros = np.zeros((2,3))\n",
    "zeros"
   ]
  },
  {
   "cell_type": "code",
   "execution_count": 42,
   "id": "68b84234-fbac-4b6c-8a38-76927d7df692",
   "metadata": {},
   "outputs": [
    {
     "data": {
      "text/plain": [
       "array([0, 2, 4, 6, 8])"
      ]
     },
     "execution_count": 42,
     "metadata": {},
     "output_type": "execute_result"
    }
   ],
   "source": [
    "range_array= np.arange(0,10,2)\n",
    "range_array"
   ]
  },
  {
   "cell_type": "code",
   "execution_count": 49,
   "id": "02ac58bf-5f27-40e6-9925-0c316f94c49b",
   "metadata": {},
   "outputs": [
    {
     "data": {
      "text/plain": [
       "array([[4, 6, 9, 6, 4],\n",
       "       [7, 9, 7, 3, 3],\n",
       "       [4, 7, 9, 6, 0]])"
      ]
     },
     "execution_count": 49,
     "metadata": {},
     "output_type": "execute_result"
    }
   ],
   "source": [
    "random_array= np.random.randint(0,10, size=(3,5))\n",
    "random_array"
   ]
  },
  {
   "cell_type": "code",
   "execution_count": 50,
   "id": "0ac508b7-4f21-45e3-a89b-f6136dee5c46",
   "metadata": {},
   "outputs": [
    {
     "data": {
      "text/plain": [
       "(15, (3, 5), numpy.ndarray)"
      ]
     },
     "execution_count": 50,
     "metadata": {},
     "output_type": "execute_result"
    }
   ],
   "source": [
    "random_array.size, random_array.shape, type(random_array)"
   ]
  },
  {
   "cell_type": "code",
   "execution_count": 51,
   "id": "bd06cb60-4af7-463f-8699-3f03e2ec22e8",
   "metadata": {},
   "outputs": [
    {
     "data": {
      "text/plain": [
       "array([[[0, 9, 7, 0, 2],\n",
       "        [5, 4, 6, 2, 1],\n",
       "        [0, 4, 4, 7, 8]],\n",
       "\n",
       "       [[7, 3, 1, 3, 6],\n",
       "        [5, 7, 0, 8, 8],\n",
       "        [5, 3, 8, 4, 0]]])"
      ]
     },
     "execution_count": 51,
     "metadata": {},
     "output_type": "execute_result"
    }
   ],
   "source": [
    "random_array= np.random.randint(0,10, size=(2,3,5))\n",
    "random_array"
   ]
  },
  {
   "cell_type": "code",
   "execution_count": 55,
   "id": "0103b0bf-2b1c-4e7d-a200-ea9afa197920",
   "metadata": {},
   "outputs": [
    {
     "data": {
      "text/plain": [
       "(array([[0.85180514, 0.4420263 , 0.4632416 ],\n",
       "        [0.84718055, 0.15134973, 0.78026952],\n",
       "        [0.66693785, 0.52139396, 0.86424822],\n",
       "        [0.75994266, 0.64991623, 0.81724866],\n",
       "        [0.54023607, 0.06666535, 0.56564946]]),\n",
       " (5, 3),\n",
       " numpy.ndarray)"
      ]
     },
     "execution_count": 55,
     "metadata": {},
     "output_type": "execute_result"
    }
   ],
   "source": [
    "random_array_2=np.random.random((5,3))\n",
    "random_array_2, random_array_2.shape, type(random_array_2)"
   ]
  },
  {
   "cell_type": "code",
   "execution_count": 57,
   "id": "4fd21796-6d09-4198-90b1-190a09634936",
   "metadata": {},
   "outputs": [
    {
     "data": {
      "text/plain": [
       "array([[0.52333521, 0.07699468, 0.10878966],\n",
       "       [0.66836074, 0.88875592, 0.82912762],\n",
       "       [0.07650593, 0.78884946, 0.74027647],\n",
       "       [0.06829704, 0.29834622, 0.44585032],\n",
       "       [0.91566387, 0.70386684, 0.10767349]])"
      ]
     },
     "execution_count": 57,
     "metadata": {},
     "output_type": "execute_result"
    }
   ],
   "source": [
    "random_array_3=np.random.rand(5,3)\n",
    "random_array_3"
   ]
  },
  {
   "cell_type": "code",
   "execution_count": 83,
   "id": "0a5c6482-9e5b-48d5-b597-5c5eef15a0ad",
   "metadata": {},
   "outputs": [
    {
     "data": {
      "text/plain": [
       "array([[5, 0, 3],\n",
       "       [3, 7, 9],\n",
       "       [3, 5, 2],\n",
       "       [4, 7, 6],\n",
       "       [8, 8, 1]])"
      ]
     },
     "execution_count": 83,
     "metadata": {},
     "output_type": "execute_result"
    }
   ],
   "source": [
    "#pseudo-random numbers\n",
    "np.random.seed(seed=0)    #doesnt allow to change randomly gives same values all the time, seed=0,1,2-----9999\n",
    "random_array_4=np.random.randint(10,size=(5,3))\n",
    "random_array_4"
   ]
  },
  {
   "cell_type": "code",
   "execution_count": 77,
   "id": "78e4977c-28e7-45b0-8bb8-4ba8da440463",
   "metadata": {},
   "outputs": [
    {
     "data": {
      "text/plain": [
       "array([[0.63992102, 0.14335329, 0.94466892],\n",
       "       [0.52184832, 0.41466194, 0.26455561],\n",
       "       [0.77423369, 0.45615033, 0.56843395],\n",
       "       [0.0187898 , 0.6176355 , 0.61209572],\n",
       "       [0.616934  , 0.94374808, 0.6818203 ]])"
      ]
     },
     "execution_count": 77,
     "metadata": {},
     "output_type": "execute_result"
    }
   ],
   "source": [
    "random_array_5=np.random.random((5,3))\n",
    "random_array_5"
   ]
  },
  {
   "cell_type": "markdown",
   "id": "612ddb93-d7e9-4c7b-8caa-7d200ae15b51",
   "metadata": {},
   "source": [
    "## view arrays and matrixes"
   ]
  },
  {
   "cell_type": "code",
   "execution_count": 84,
   "id": "d8b1521d-572b-45b1-9ba1-9a13290f0696",
   "metadata": {},
   "outputs": [
    {
     "data": {
      "text/plain": [
       "array([0, 1, 2, 3, 4, 5, 6, 7, 8, 9])"
      ]
     },
     "execution_count": 84,
     "metadata": {},
     "output_type": "execute_result"
    }
   ],
   "source": [
    "#tells unique values\n",
    "np.unique(random_array_4)"
   ]
  },
  {
   "cell_type": "code",
   "execution_count": 85,
   "id": "aa7f25c1-cdbb-4480-9e37-14a069942052",
   "metadata": {},
   "outputs": [
    {
     "data": {
      "text/plain": [
       "(array([1, 2, 3]),\n",
       " array([[1.  , 2.5 , 3.  ],\n",
       "        [4.01, 5.  , 6.  ]]),\n",
       " array([[[ 1,  2,  3],\n",
       "         [ 4,  5,  6]],\n",
       " \n",
       "        [[ 7,  8,  9],\n",
       "         [10, 11, 12]],\n",
       " \n",
       "        [[13, 14, 15],\n",
       "         [16, 17, 18]]]))"
      ]
     },
     "execution_count": 85,
     "metadata": {},
     "output_type": "execute_result"
    }
   ],
   "source": [
    "a1, a2, a3"
   ]
  },
  {
   "cell_type": "code",
   "execution_count": 86,
   "id": "26e01332-998c-466c-88ca-b4e8912c7525",
   "metadata": {},
   "outputs": [
    {
     "data": {
      "text/plain": [
       "1"
      ]
     },
     "execution_count": 86,
     "metadata": {},
     "output_type": "execute_result"
    }
   ],
   "source": [
    "a1[0]"
   ]
  },
  {
   "cell_type": "code",
   "execution_count": 89,
   "id": "6e41fa28-292e-4323-afbe-a2010827e3fd",
   "metadata": {},
   "outputs": [
    {
     "data": {
      "text/plain": [
       "(2.5, array([1. , 2.5, 3. ]))"
      ]
     },
     "execution_count": 89,
     "metadata": {},
     "output_type": "execute_result"
    }
   ],
   "source": [
    "a2[0,1], a2[0]"
   ]
  },
  {
   "cell_type": "code",
   "execution_count": 88,
   "id": "1225911f-6ef0-415d-8242-5e997fcc6a7f",
   "metadata": {},
   "outputs": [
    {
     "data": {
      "text/plain": [
       "11"
      ]
     },
     "execution_count": 88,
     "metadata": {},
     "output_type": "execute_result"
    }
   ],
   "source": [
    "a3[1,1,1]"
   ]
  },
  {
   "cell_type": "code",
   "execution_count": 92,
   "id": "9f9ad063-e860-4829-9395-f3f514c38154",
   "metadata": {},
   "outputs": [
    {
     "data": {
      "text/plain": [
       "(array([1, 2]),\n",
       " array([[1.  ],\n",
       "        [4.01]]),\n",
       " array([[[ 1,  2],\n",
       "         [ 4,  5]],\n",
       " \n",
       "        [[ 7,  8],\n",
       "         [10, 11]]]))"
      ]
     },
     "execution_count": 92,
     "metadata": {},
     "output_type": "execute_result"
    }
   ],
   "source": [
    "a1[:2], a2[:2,:1],a3[:2,:2,:2]"
   ]
  },
  {
   "cell_type": "code",
   "execution_count": 93,
   "id": "a995e64d-da76-4b32-8a57-b9a778e6b19e",
   "metadata": {},
   "outputs": [
    {
     "data": {
      "text/plain": [
       "array([[[ 1],\n",
       "        [ 4]],\n",
       "\n",
       "       [[ 7],\n",
       "        [10]],\n",
       "\n",
       "       [[13],\n",
       "        [16]]])"
      ]
     },
     "execution_count": 93,
     "metadata": {},
     "output_type": "execute_result"
    }
   ],
   "source": [
    "a3[:,:,:1]"
   ]
  },
  {
   "cell_type": "markdown",
   "id": "d6fa6270-2305-4ccd-a528-a2997938f38b",
   "metadata": {},
   "source": [
    "## manipulate and comparing array"
   ]
  },
  {
   "cell_type": "markdown",
   "id": "addf183c-0932-4797-a0d9-8790c7ef1a1a",
   "metadata": {},
   "source": [
    "## arithmetic"
   ]
  },
  {
   "cell_type": "code",
   "execution_count": 95,
   "id": "ba05a44a-e12f-4121-b054-5d301741b934",
   "metadata": {},
   "outputs": [
    {
     "data": {
      "text/plain": [
       "array([1, 2, 3])"
      ]
     },
     "execution_count": 95,
     "metadata": {},
     "output_type": "execute_result"
    }
   ],
   "source": [
    "a1"
   ]
  },
  {
   "cell_type": "code",
   "execution_count": 96,
   "id": "3b29b6ca-fd92-4b83-af74-0ececb9d5942",
   "metadata": {},
   "outputs": [
    {
     "data": {
      "text/plain": [
       "array([[1., 1., 1.],\n",
       "       [1., 1., 1.]])"
      ]
     },
     "execution_count": 96,
     "metadata": {},
     "output_type": "execute_result"
    }
   ],
   "source": [
    "ones"
   ]
  },
  {
   "cell_type": "code",
   "execution_count": 97,
   "id": "d38db2d1-8405-4c5d-a1e2-66b009fe42bc",
   "metadata": {},
   "outputs": [
    {
     "data": {
      "text/plain": [
       "array([[2., 3., 4.],\n",
       "       [2., 3., 4.]])"
      ]
     },
     "execution_count": 97,
     "metadata": {},
     "output_type": "execute_result"
    }
   ],
   "source": [
    "# +,-,*,/,//,%,**,  ** or np.square(a1),   exp(a1), log(a1)\n",
    "a1 + ones      # np.add(a1,ones)"
   ]
  },
  {
   "cell_type": "code",
   "execution_count": 98,
   "id": "b6a2b6fc-b1ff-4ed1-8bf7-3197d2c1c149",
   "metadata": {},
   "outputs": [
    {
     "data": {
      "text/plain": [
       "array([[1., 2., 3.],\n",
       "       [1., 2., 3.]])"
      ]
     },
     "execution_count": 98,
     "metadata": {},
     "output_type": "execute_result"
    }
   ],
   "source": [
    "a1 * ones"
   ]
  },
  {
   "cell_type": "code",
   "execution_count": 99,
   "id": "9b67b6de-88f0-4381-8c1c-5e770bd46757",
   "metadata": {},
   "outputs": [
    {
     "data": {
      "text/plain": [
       "array([[0., 1., 2.],\n",
       "       [0., 1., 2.]])"
      ]
     },
     "execution_count": 99,
     "metadata": {},
     "output_type": "execute_result"
    }
   ],
   "source": [
    "a1 - ones"
   ]
  },
  {
   "cell_type": "code",
   "execution_count": 100,
   "id": "94079627-89fe-49ae-8b91-63baa2f35df2",
   "metadata": {},
   "outputs": [
    {
     "data": {
      "text/plain": [
       "array([[1.  , 2.5 , 3.  ],\n",
       "       [4.01, 5.  , 6.  ]])"
      ]
     },
     "execution_count": 100,
     "metadata": {},
     "output_type": "execute_result"
    }
   ],
   "source": [
    "a2"
   ]
  },
  {
   "cell_type": "code",
   "execution_count": 101,
   "id": "a648dc11-1be4-4b83-bc21-736941cdca11",
   "metadata": {},
   "outputs": [
    {
     "data": {
      "text/plain": [
       "array([[ 1.  ,  5.  ,  9.  ],\n",
       "       [ 4.01, 10.  , 18.  ]])"
      ]
     },
     "execution_count": 101,
     "metadata": {},
     "output_type": "execute_result"
    }
   ],
   "source": [
    "a1 * a2"
   ]
  },
  {
   "cell_type": "code",
   "execution_count": 108,
   "id": "1bfec521-35d9-4df7-8a61-a14e26652481",
   "metadata": {},
   "outputs": [
    {
     "data": {
      "text/plain": [
       "(array([[[ 1,  2,  3],\n",
       "         [ 4,  5,  6]],\n",
       " \n",
       "        [[ 7,  8,  9],\n",
       "         [10, 11, 12]],\n",
       " \n",
       "        [[13, 14, 15],\n",
       "         [16, 17, 18]]]),\n",
       " (3, 2, 3))"
      ]
     },
     "execution_count": 108,
     "metadata": {},
     "output_type": "execute_result"
    }
   ],
   "source": [
    "a3, a3.shape"
   ]
  },
  {
   "cell_type": "code",
   "execution_count": 103,
   "id": "a686b07b-25cf-4be6-9d5c-878b8b1cb2cb",
   "metadata": {},
   "outputs": [
    {
     "data": {
      "text/plain": [
       "array([[[  1.  ,   5.  ,   9.  ],\n",
       "        [ 16.04,  25.  ,  36.  ]],\n",
       "\n",
       "       [[  7.  ,  20.  ,  27.  ],\n",
       "        [ 40.1 ,  55.  ,  72.  ]],\n",
       "\n",
       "       [[ 13.  ,  35.  ,  45.  ],\n",
       "        [ 64.16,  85.  , 108.  ]]])"
      ]
     },
     "execution_count": 103,
     "metadata": {},
     "output_type": "execute_result"
    }
   ],
   "source": [
    "a2 * a3"
   ]
  },
  {
   "cell_type": "code",
   "execution_count": 105,
   "id": "7e3da2f2-1944-4ca4-97b4-d26ed58dc247",
   "metadata": {},
   "outputs": [
    {
     "data": {
      "text/plain": [
       "array([1, 2, 3, 4, 5, 6])"
      ]
     },
     "execution_count": 105,
     "metadata": {},
     "output_type": "execute_result"
    }
   ],
   "source": [
    "# reshape numpy array\n",
    "a_1 = np.array([1, 2, 3, 4, 5, 6])\n",
    "a_1"
   ]
  },
  {
   "cell_type": "code",
   "execution_count": 110,
   "id": "0f1b60e9-8bf5-401d-a748-0a2dc613e0da",
   "metadata": {},
   "outputs": [
    {
     "data": {
      "text/plain": [
       "array([[1, 2, 3],\n",
       "       [4, 5, 6]])"
      ]
     },
     "execution_count": 110,
     "metadata": {},
     "output_type": "execute_result"
    }
   ],
   "source": [
    "a_2 = a_1.reshape((2,3))\n",
    "a_2"
   ]
  },
  {
   "cell_type": "code",
   "execution_count": null,
   "id": "2ff28ff4-de32-4852-9b03-fd93ed6c3577",
   "metadata": {},
   "outputs": [],
   "source": [
    "a_1 * a3 # so we need to reshape "
   ]
  },
  {
   "cell_type": "markdown",
   "id": "d8719cd3-cddd-4d8c-a212-ba0a8df7af27",
   "metadata": {},
   "source": [
    "## aggregation\n",
    "aggregation =performing same operations on a number of things"
   ]
  },
  {
   "cell_type": "code",
   "execution_count": 121,
   "id": "e121bf25-a703-4862-947b-3376766d62b5",
   "metadata": {},
   "outputs": [
    {
     "data": {
      "text/plain": [
       "list"
      ]
     },
     "execution_count": 121,
     "metadata": {},
     "output_type": "execute_result"
    }
   ],
   "source": [
    "listy_list = [1,2,3]\n",
    "type(listy_list)"
   ]
  },
  {
   "cell_type": "code",
   "execution_count": 120,
   "id": "1c74d797-0504-4c10-9841-feb13e84c0cf",
   "metadata": {},
   "outputs": [
    {
     "data": {
      "text/plain": [
       "6"
      ]
     },
     "execution_count": 120,
     "metadata": {},
     "output_type": "execute_result"
    }
   ],
   "source": [
    "sum(a1)"
   ]
  },
  {
   "cell_type": "code",
   "execution_count": 123,
   "id": "4886158c-5e20-4578-99d4-e6228b28d3b9",
   "metadata": {},
   "outputs": [
    {
     "data": {
      "text/plain": [
       "6"
      ]
     },
     "execution_count": 123,
     "metadata": {},
     "output_type": "execute_result"
    }
   ],
   "source": [
    "np.sum(a1)"
   ]
  },
  {
   "cell_type": "code",
   "execution_count": 117,
   "id": "85b39bff-fb31-4690-add8-47687ac2d088",
   "metadata": {},
   "outputs": [
    {
     "name": "stdout",
     "output_type": "stream",
     "text": [
      "161 ns ± 4.94 ns per loop (mean ± std. dev. of 7 runs, 10,000,000 loops each)\n",
      "5.66 µs ± 246 ns per loop (mean ± std. dev. of 7 runs, 100,000 loops each)\n"
     ]
    }
   ],
   "source": [
    "%timeit sum(listy_list)\n",
    "%timeit np.sum(a1)       #much faster than python sum() function"
   ]
  },
  {
   "cell_type": "code",
   "execution_count": 124,
   "id": "95bfd8ff-78a2-48af-a6f3-295c01b8e884",
   "metadata": {},
   "outputs": [
    {
     "data": {
      "text/plain": [
       "array([[1.  , 2.5 , 3.  ],\n",
       "       [4.01, 5.  , 6.  ]])"
      ]
     },
     "execution_count": 124,
     "metadata": {},
     "output_type": "execute_result"
    }
   ],
   "source": [
    "a2"
   ]
  },
  {
   "cell_type": "code",
   "execution_count": 328,
   "id": "635fc606-8c0d-4fa3-8fb5-af9dfa24850b",
   "metadata": {},
   "outputs": [
    {
     "data": {
      "text/plain": [
       "(3.5849999999999995, 2.7027916666666667)"
      ]
     },
     "execution_count": 328,
     "metadata": {},
     "output_type": "execute_result"
    }
   ],
   "source": [
    "np.mean(a2), np.var(a2)          #max,min,std,var"
   ]
  },
  {
   "cell_type": "code",
   "execution_count": 127,
   "id": "20fcbce9-0f01-45fe-a309-cc4d3b08eee6",
   "metadata": {},
   "outputs": [
    {
     "data": {
      "text/plain": [
       "1.6440169301642447"
      ]
     },
     "execution_count": 127,
     "metadata": {},
     "output_type": "execute_result"
    }
   ],
   "source": [
    "# std=squareroot of var\n",
    "np.sqrt(np.var(a2))"
   ]
  },
  {
   "cell_type": "code",
   "execution_count": 132,
   "id": "a319355b-e686-4f86-970f-c176c700cba1",
   "metadata": {},
   "outputs": [],
   "source": [
    "# variance, standard deviation"
   ]
  },
  {
   "cell_type": "markdown",
   "id": "47ece3a4-02be-4044-978d-f914ec7a0490",
   "metadata": {},
   "source": [
    "# reshape and transpose"
   ]
  },
  {
   "cell_type": "code",
   "execution_count": 165,
   "id": "b65bc415-0f9d-45e3-80ff-2ea43ae7a37a",
   "metadata": {},
   "outputs": [
    {
     "data": {
      "text/plain": [
       "array([[1.  , 2.5 , 3.  ],\n",
       "       [4.01, 5.  , 6.  ]])"
      ]
     },
     "execution_count": 165,
     "metadata": {},
     "output_type": "execute_result"
    }
   ],
   "source": [
    "a2"
   ]
  },
  {
   "cell_type": "code",
   "execution_count": 166,
   "id": "60a52474-f696-4922-9e57-e876f601f99f",
   "metadata": {},
   "outputs": [
    {
     "data": {
      "text/plain": [
       "(2, 3)"
      ]
     },
     "execution_count": 166,
     "metadata": {},
     "output_type": "execute_result"
    }
   ],
   "source": [
    "a2.shape"
   ]
  },
  {
   "cell_type": "code",
   "execution_count": 140,
   "id": "b7d46c22-2f6d-4833-944b-f04b69f63f4d",
   "metadata": {},
   "outputs": [
    {
     "data": {
      "text/plain": [
       "array([[[ 1,  2,  3],\n",
       "        [ 4,  5,  6],\n",
       "        [ 7,  8,  9]],\n",
       "\n",
       "       [[10, 11, 12],\n",
       "        [13, 14, 15],\n",
       "        [16, 17, 18]]])"
      ]
     },
     "execution_count": 140,
     "metadata": {},
     "output_type": "execute_result"
    }
   ],
   "source": [
    "a4"
   ]
  },
  {
   "cell_type": "code",
   "execution_count": 141,
   "id": "94416982-9e96-49f4-bc03-f607f0739876",
   "metadata": {},
   "outputs": [
    {
     "data": {
      "text/plain": [
       "(2, 3, 3)"
      ]
     },
     "execution_count": 141,
     "metadata": {},
     "output_type": "execute_result"
    }
   ],
   "source": [
    "a4.shape"
   ]
  },
  {
   "cell_type": "code",
   "execution_count": 142,
   "id": "21649b64-e791-4c30-a02e-8f1e33d3e275",
   "metadata": {},
   "outputs": [
    {
     "ename": "ValueError",
     "evalue": "operands could not be broadcast together with shapes (2,3) (2,3,3) ",
     "output_type": "error",
     "traceback": [
      "\u001b[1;31m---------------------------------------------------------------------------\u001b[0m",
      "\u001b[1;31mValueError\u001b[0m                                Traceback (most recent call last)",
      "Cell \u001b[1;32mIn[142], line 1\u001b[0m\n\u001b[1;32m----> 1\u001b[0m a2\u001b[38;5;241m*\u001b[39ma4\n",
      "\u001b[1;31mValueError\u001b[0m: operands could not be broadcast together with shapes (2,3) (2,3,3) "
     ]
    }
   ],
   "source": [
    "a2*a4"
   ]
  },
  {
   "cell_type": "code",
   "execution_count": 167,
   "id": "9f70d2e9-5668-42ba-b786-0e3b73ae502c",
   "metadata": {},
   "outputs": [
    {
     "data": {
      "text/plain": [
       "(array([[1.  , 2.5 , 3.  ],\n",
       "        [4.01, 5.  , 6.  ]]),\n",
       " (2, 3))"
      ]
     },
     "execution_count": 167,
     "metadata": {},
     "output_type": "execute_result"
    }
   ],
   "source": [
    "a2, a2.shape"
   ]
  },
  {
   "cell_type": "code",
   "execution_count": 168,
   "id": "824b1484-b756-4da7-97cb-7c1a7f82a83d",
   "metadata": {},
   "outputs": [
    {
     "data": {
      "text/plain": [
       "array([[1.  , 2.5 , 3.  ],\n",
       "       [4.01, 5.  , 6.  ]])"
      ]
     },
     "execution_count": 168,
     "metadata": {},
     "output_type": "execute_result"
    }
   ],
   "source": [
    "a2"
   ]
  },
  {
   "cell_type": "code",
   "execution_count": 169,
   "id": "edf86183-abd3-41af-ba4a-2306703ae40e",
   "metadata": {},
   "outputs": [
    {
     "data": {
      "text/plain": [
       "(2, 3, 1)"
      ]
     },
     "execution_count": 169,
     "metadata": {},
     "output_type": "execute_result"
    }
   ],
   "source": [
    "a2.reshape(2,3,1).shape"
   ]
  },
  {
   "cell_type": "code",
   "execution_count": 170,
   "id": "bc517cbc-44f5-433e-843e-e5cf6f4e95eb",
   "metadata": {},
   "outputs": [
    {
     "data": {
      "text/plain": [
       "array([[[1.  ],\n",
       "        [2.5 ],\n",
       "        [3.  ]],\n",
       "\n",
       "       [[4.01],\n",
       "        [5.  ],\n",
       "        [6.  ]]])"
      ]
     },
     "execution_count": 170,
     "metadata": {},
     "output_type": "execute_result"
    }
   ],
   "source": [
    "a2_reshape = a2.reshape(2,3,1)\n",
    "a2_reshape"
   ]
  },
  {
   "cell_type": "code",
   "execution_count": 171,
   "id": "476298aa-84a8-438e-b2eb-e15e3ad07e69",
   "metadata": {},
   "outputs": [
    {
     "data": {
      "text/plain": [
       "array([[[  1.  ,   2.  ,   3.  ],\n",
       "        [ 10.  ,  12.5 ,  15.  ],\n",
       "        [ 21.  ,  24.  ,  27.  ]],\n",
       "\n",
       "       [[ 40.1 ,  44.11,  48.12],\n",
       "        [ 65.  ,  70.  ,  75.  ],\n",
       "        [ 96.  , 102.  , 108.  ]]])"
      ]
     },
     "execution_count": 171,
     "metadata": {},
     "output_type": "execute_result"
    }
   ],
   "source": [
    "a2_reshape * a4"
   ]
  },
  {
   "cell_type": "code",
   "execution_count": 187,
   "id": "f0aef6e1-79ea-4742-992a-a56116e888b7",
   "metadata": {},
   "outputs": [
    {
     "data": {
      "text/plain": [
       "array([[1.  , 4.01],\n",
       "       [2.5 , 5.  ],\n",
       "       [3.  , 6.  ]])"
      ]
     },
     "execution_count": 187,
     "metadata": {},
     "output_type": "execute_result"
    }
   ],
   "source": [
    "# transpose-> switches the axix'\n",
    "a2.T"
   ]
  },
  {
   "cell_type": "code",
   "execution_count": 188,
   "id": "b59477a4-1cf4-4fa3-94d7-cdf693309063",
   "metadata": {},
   "outputs": [
    {
     "data": {
      "text/plain": [
       "(3, 2)"
      ]
     },
     "execution_count": 188,
     "metadata": {},
     "output_type": "execute_result"
    }
   ],
   "source": [
    "a2.T.shape"
   ]
  },
  {
   "cell_type": "code",
   "execution_count": 189,
   "id": "0b3a3827-9443-4156-9b8f-580a01afeac5",
   "metadata": {},
   "outputs": [
    {
     "data": {
      "text/plain": [
       "array([[[ 1, 10],\n",
       "        [ 4, 13],\n",
       "        [ 7, 16]],\n",
       "\n",
       "       [[ 2, 11],\n",
       "        [ 5, 14],\n",
       "        [ 8, 17]],\n",
       "\n",
       "       [[ 3, 12],\n",
       "        [ 6, 15],\n",
       "        [ 9, 18]]])"
      ]
     },
     "execution_count": 189,
     "metadata": {},
     "output_type": "execute_result"
    }
   ],
   "source": [
    "a4.T"
   ]
  },
  {
   "cell_type": "code",
   "execution_count": 190,
   "id": "a49a339c-9895-4eb7-a7da-ca85ddac6f98",
   "metadata": {},
   "outputs": [
    {
     "data": {
      "text/plain": [
       "(3, 3, 2)"
      ]
     },
     "execution_count": 190,
     "metadata": {},
     "output_type": "execute_result"
    }
   ],
   "source": [
    "a4.T.shape"
   ]
  },
  {
   "cell_type": "markdown",
   "id": "e0fa46a2-a3f4-4e49-84bb-3676f901bf5a",
   "metadata": {},
   "source": [
    "## DOT PRODUCT\n",
    "another wayof finding patterns btw 2 diff set of numbers"
   ]
  },
  {
   "cell_type": "code",
   "execution_count": 199,
   "id": "23a3ae77-bffc-4a29-9b9a-6ce8dde150d8",
   "metadata": {},
   "outputs": [
    {
     "data": {
      "text/plain": [
       "array([[5, 0, 3],\n",
       "       [3, 7, 9],\n",
       "       [3, 5, 2],\n",
       "       [4, 7, 6],\n",
       "       [8, 8, 1]])"
      ]
     },
     "execution_count": 199,
     "metadata": {},
     "output_type": "execute_result"
    }
   ],
   "source": [
    "np.random.seed(0)\n",
    "mat1=np.random.randint(10, size=(5,3))\n",
    "mat2=np.random.randint(10, size=(5,3))\n",
    "mat1"
   ]
  },
  {
   "cell_type": "code",
   "execution_count": 200,
   "id": "9fd628a8-2859-4612-be0f-1e39daf4053a",
   "metadata": {},
   "outputs": [
    {
     "data": {
      "text/plain": [
       "array([[6, 7, 7],\n",
       "       [8, 1, 5],\n",
       "       [9, 8, 9],\n",
       "       [4, 3, 0],\n",
       "       [3, 5, 0]])"
      ]
     },
     "execution_count": 200,
     "metadata": {},
     "output_type": "execute_result"
    }
   ],
   "source": [
    "mat2"
   ]
  },
  {
   "cell_type": "code",
   "execution_count": 201,
   "id": "cfffbae4-0fc3-439d-a29d-125ab4f6f941",
   "metadata": {},
   "outputs": [
    {
     "data": {
      "text/plain": [
       "((5, 3), (5, 3))"
      ]
     },
     "execution_count": 201,
     "metadata": {},
     "output_type": "execute_result"
    }
   ],
   "source": [
    "mat1.shape, mat2.shape"
   ]
  },
  {
   "cell_type": "code",
   "execution_count": 204,
   "id": "f6d33dce-2aa1-4140-9df4-f63476c7534f",
   "metadata": {},
   "outputs": [
    {
     "data": {
      "text/plain": [
       "array([[30,  0, 21],\n",
       "       [24,  7, 45],\n",
       "       [27, 40, 18],\n",
       "       [16, 21,  0],\n",
       "       [24, 40,  0]])"
      ]
     },
     "execution_count": 204,
     "metadata": {},
     "output_type": "execute_result"
    }
   ],
   "source": [
    "#element wise multiplications (HADAMARD PRODUCTS)\n",
    "mat1 * mat2"
   ]
  },
  {
   "cell_type": "code",
   "execution_count": 205,
   "id": "33e85f22-ca75-4a6d-9dd7-d116d5607938",
   "metadata": {},
   "outputs": [
    {
     "ename": "ValueError",
     "evalue": "shapes (5,3) and (5,3) not aligned: 3 (dim 1) != 5 (dim 0)",
     "output_type": "error",
     "traceback": [
      "\u001b[1;31m---------------------------------------------------------------------------\u001b[0m",
      "\u001b[1;31mValueError\u001b[0m                                Traceback (most recent call last)",
      "Cell \u001b[1;32mIn[205], line 1\u001b[0m\n\u001b[1;32m----> 1\u001b[0m np\u001b[38;5;241m.\u001b[39mdot(mat1,mat2)\n",
      "\u001b[1;31mValueError\u001b[0m: shapes (5,3) and (5,3) not aligned: 3 (dim 1) != 5 (dim 0)"
     ]
    }
   ],
   "source": [
    "np.dot(mat1,mat2)"
   ]
  },
  {
   "cell_type": "code",
   "execution_count": 206,
   "id": "f67a0eea-44fc-4145-96cb-15c1f1af5a8f",
   "metadata": {},
   "outputs": [
    {
     "data": {
      "text/plain": [
       "array([[5, 3, 3, 4, 8],\n",
       "       [0, 7, 5, 7, 8],\n",
       "       [3, 9, 2, 6, 1]])"
      ]
     },
     "execution_count": 206,
     "metadata": {},
     "output_type": "execute_result"
    }
   ],
   "source": [
    "#TRANSPOSE MAT1\n",
    "mat1.T"
   ]
  },
  {
   "cell_type": "code",
   "execution_count": 210,
   "id": "76ceb54a-365b-40f7-b517-850269a9047d",
   "metadata": {},
   "outputs": [
    {
     "data": {
      "text/plain": [
       "((5, 3), (3, 5))"
      ]
     },
     "execution_count": 210,
     "metadata": {},
     "output_type": "execute_result"
    }
   ],
   "source": [
    "mat1.shape, mat2.T.shape"
   ]
  },
  {
   "cell_type": "code",
   "execution_count": 212,
   "id": "c9381a76-eef0-4442-b42a-7dba400c6f36",
   "metadata": {},
   "outputs": [
    {
     "data": {
      "text/plain": [
       "array([[ 51,  55,  72,  20,  15],\n",
       "       [130,  76, 164,  33,  44],\n",
       "       [ 67,  39,  85,  27,  34],\n",
       "       [115,  69, 146,  37,  47],\n",
       "       [111,  77, 145,  56,  64]])"
      ]
     },
     "execution_count": 212,
     "metadata": {},
     "output_type": "execute_result"
    }
   ],
   "source": [
    "mat3=np.dot(mat1,mat2.T)\n",
    "mat3"
   ]
  },
  {
   "cell_type": "code",
   "execution_count": 213,
   "id": "35e66275-3883-4804-9b92-a045bc19f595",
   "metadata": {},
   "outputs": [
    {
     "data": {
      "text/plain": [
       "(5, 5)"
      ]
     },
     "execution_count": 213,
     "metadata": {},
     "output_type": "execute_result"
    }
   ],
   "source": [
    "mat3.shape"
   ]
  },
  {
   "cell_type": "markdown",
   "id": "48806726-9bc0-4d77-9a68-fed8efbcb041",
   "metadata": {},
   "source": [
    "# exercise:  nut butter store sales"
   ]
  },
  {
   "cell_type": "code",
   "execution_count": 234,
   "id": "9af0a56e-4866-4b9e-bed5-b8b244877262",
   "metadata": {},
   "outputs": [
    {
     "data": {
      "text/plain": [
       "array([[12, 15, 21],\n",
       "       [ 0,  3, 27],\n",
       "       [ 3,  7,  9],\n",
       "       [19, 21, 18],\n",
       "       [ 4, 23,  6]])"
      ]
     },
     "execution_count": 234,
     "metadata": {},
     "output_type": "execute_result"
    }
   ],
   "source": [
    "np.random.seed(0)\n",
    "# no.of jars sold\n",
    "sales_amounts=np.random.randint(29, size=(5,3))\n",
    "sales_amounts"
   ]
  },
  {
   "cell_type": "code",
   "execution_count": 235,
   "id": "2a290745-4db6-4e93-abc7-f4bd7e5897f7",
   "metadata": {},
   "outputs": [
    {
     "data": {
      "text/html": [
       "<div>\n",
       "<style scoped>\n",
       "    .dataframe tbody tr th:only-of-type {\n",
       "        vertical-align: middle;\n",
       "    }\n",
       "\n",
       "    .dataframe tbody tr th {\n",
       "        vertical-align: top;\n",
       "    }\n",
       "\n",
       "    .dataframe thead th {\n",
       "        text-align: right;\n",
       "    }\n",
       "</style>\n",
       "<table border=\"1\" class=\"dataframe\">\n",
       "  <thead>\n",
       "    <tr style=\"text-align: right;\">\n",
       "      <th></th>\n",
       "      <th>Almond_butter</th>\n",
       "      <th>Peanut_butter</th>\n",
       "      <th>Cashew_butter</th>\n",
       "    </tr>\n",
       "  </thead>\n",
       "  <tbody>\n",
       "    <tr>\n",
       "      <th>Mon</th>\n",
       "      <td>12</td>\n",
       "      <td>15</td>\n",
       "      <td>21</td>\n",
       "    </tr>\n",
       "    <tr>\n",
       "      <th>Tues</th>\n",
       "      <td>0</td>\n",
       "      <td>3</td>\n",
       "      <td>27</td>\n",
       "    </tr>\n",
       "    <tr>\n",
       "      <th>Wed</th>\n",
       "      <td>3</td>\n",
       "      <td>7</td>\n",
       "      <td>9</td>\n",
       "    </tr>\n",
       "    <tr>\n",
       "      <th>Thurs</th>\n",
       "      <td>19</td>\n",
       "      <td>21</td>\n",
       "      <td>18</td>\n",
       "    </tr>\n",
       "    <tr>\n",
       "      <th>Fri</th>\n",
       "      <td>4</td>\n",
       "      <td>23</td>\n",
       "      <td>6</td>\n",
       "    </tr>\n",
       "  </tbody>\n",
       "</table>\n",
       "</div>"
      ],
      "text/plain": [
       "       Almond_butter  Peanut_butter  Cashew_butter\n",
       "Mon               12             15             21\n",
       "Tues               0              3             27\n",
       "Wed                3              7              9\n",
       "Thurs             19             21             18\n",
       "Fri                4             23              6"
      ]
     },
     "execution_count": 235,
     "metadata": {},
     "output_type": "execute_result"
    }
   ],
   "source": [
    "# create weekly_sales dataframe\n",
    "weekly_sales = pd.DataFrame(sales_amounts, index=[\"Mon\",\"Tues\",\"Wed\",\"Thurs\",\"Fri\"], \n",
    "                            columns=[\"Almond_butter\",\"Peanut_butter\",\"Cashew_butter\"])\n",
    "weekly_sales"
   ]
  },
  {
   "cell_type": "code",
   "execution_count": 236,
   "id": "60c98b37-4f50-42f6-aa14-99b93b8d973b",
   "metadata": {},
   "outputs": [
    {
     "data": {
      "text/plain": [
       "(array([10,  8, 12]), (3,))"
      ]
     },
     "execution_count": 236,
     "metadata": {},
     "output_type": "execute_result"
    }
   ],
   "source": [
    "# create prices array\n",
    "prices = np.array([10,8,12])\n",
    "prices, prices.shape"
   ]
  },
  {
   "cell_type": "code",
   "execution_count": 240,
   "id": "9a56c2c3-1462-45eb-a9b2-66725320ec6f",
   "metadata": {},
   "outputs": [
    {
     "data": {
      "text/html": [
       "<div>\n",
       "<style scoped>\n",
       "    .dataframe tbody tr th:only-of-type {\n",
       "        vertical-align: middle;\n",
       "    }\n",
       "\n",
       "    .dataframe tbody tr th {\n",
       "        vertical-align: top;\n",
       "    }\n",
       "\n",
       "    .dataframe thead th {\n",
       "        text-align: right;\n",
       "    }\n",
       "</style>\n",
       "<table border=\"1\" class=\"dataframe\">\n",
       "  <thead>\n",
       "    <tr style=\"text-align: right;\">\n",
       "      <th></th>\n",
       "      <th>Almond_butter</th>\n",
       "      <th>Peanut_butter</th>\n",
       "      <th>Cashew_butter</th>\n",
       "    </tr>\n",
       "  </thead>\n",
       "  <tbody>\n",
       "    <tr>\n",
       "      <th>prices</th>\n",
       "      <td>10</td>\n",
       "      <td>8</td>\n",
       "      <td>12</td>\n",
       "    </tr>\n",
       "  </tbody>\n",
       "</table>\n",
       "</div>"
      ],
      "text/plain": [
       "        Almond_butter  Peanut_butter  Cashew_butter\n",
       "prices             10              8             12"
      ]
     },
     "execution_count": 240,
     "metadata": {},
     "output_type": "execute_result"
    }
   ],
   "source": [
    "# create butter price dataframe\n",
    "butter_prices=pd.DataFrame(prices.reshape(1,3),index=[\"prices\"],\n",
    "             columns=[\"Almond_butter\",\"Peanut_butter\",\"Cashew_butter\"])\n",
    "butter_prices"
   ]
  },
  {
   "cell_type": "code",
   "execution_count": 243,
   "id": "556a0690-8539-45dd-ad6e-9fc23db98ae4",
   "metadata": {},
   "outputs": [
    {
     "data": {
      "text/plain": [
       "array([10,  8, 12])"
      ]
     },
     "execution_count": 243,
     "metadata": {},
     "output_type": "execute_result"
    }
   ],
   "source": [
    "prices"
   ]
  },
  {
   "cell_type": "code",
   "execution_count": 333,
   "id": "6cd50eb2-8f02-4698-838b-c7c6cba585a1",
   "metadata": {},
   "outputs": [
    {
     "data": {
      "text/plain": [
       "(array([[12, 15, 21],\n",
       "        [ 0,  3, 27],\n",
       "        [ 3,  7,  9],\n",
       "        [19, 21, 18],\n",
       "        [ 4, 23,  6]]),\n",
       " (5, 3))"
      ]
     },
     "execution_count": 333,
     "metadata": {},
     "output_type": "execute_result"
    }
   ],
   "source": [
    "sales_amount, sales_amount.shape"
   ]
  },
  {
   "cell_type": "code",
   "execution_count": 246,
   "id": "ca1f3f55-fa7a-4c37-9e5d-f6f36c888cff",
   "metadata": {},
   "outputs": [
    {
     "data": {
      "text/plain": [
       "array([492, 348, 194, 574, 296])"
      ]
     },
     "execution_count": 246,
     "metadata": {},
     "output_type": "execute_result"
    }
   ],
   "source": [
    "# shapes arent aligned lets trasnpose\n",
    "total_sales = prices.dot(sales_amount.T)\n",
    "total_sales"
   ]
  },
  {
   "cell_type": "code",
   "execution_count": 247,
   "id": "c3d36b7f-a4a3-446b-b997-831000a0fd5d",
   "metadata": {},
   "outputs": [
    {
     "data": {
      "text/html": [
       "<div>\n",
       "<style scoped>\n",
       "    .dataframe tbody tr th:only-of-type {\n",
       "        vertical-align: middle;\n",
       "    }\n",
       "\n",
       "    .dataframe tbody tr th {\n",
       "        vertical-align: top;\n",
       "    }\n",
       "\n",
       "    .dataframe thead th {\n",
       "        text-align: right;\n",
       "    }\n",
       "</style>\n",
       "<table border=\"1\" class=\"dataframe\">\n",
       "  <thead>\n",
       "    <tr style=\"text-align: right;\">\n",
       "      <th></th>\n",
       "      <th>Almond_butter</th>\n",
       "      <th>Peanut_butter</th>\n",
       "      <th>Cashew_butter</th>\n",
       "    </tr>\n",
       "  </thead>\n",
       "  <tbody>\n",
       "    <tr>\n",
       "      <th>prices</th>\n",
       "      <td>10</td>\n",
       "      <td>8</td>\n",
       "      <td>12</td>\n",
       "    </tr>\n",
       "  </tbody>\n",
       "</table>\n",
       "</div>"
      ],
      "text/plain": [
       "        Almond_butter  Peanut_butter  Cashew_butter\n",
       "prices             10              8             12"
      ]
     },
     "execution_count": 247,
     "metadata": {},
     "output_type": "execute_result"
    }
   ],
   "source": [
    "# create daily_sales\n",
    "butter_prices"
   ]
  },
  {
   "cell_type": "code",
   "execution_count": 248,
   "id": "42cf742f-452d-42a8-9e48-887841b106ec",
   "metadata": {},
   "outputs": [
    {
     "data": {
      "text/html": [
       "<div>\n",
       "<style scoped>\n",
       "    .dataframe tbody tr th:only-of-type {\n",
       "        vertical-align: middle;\n",
       "    }\n",
       "\n",
       "    .dataframe tbody tr th {\n",
       "        vertical-align: top;\n",
       "    }\n",
       "\n",
       "    .dataframe thead th {\n",
       "        text-align: right;\n",
       "    }\n",
       "</style>\n",
       "<table border=\"1\" class=\"dataframe\">\n",
       "  <thead>\n",
       "    <tr style=\"text-align: right;\">\n",
       "      <th></th>\n",
       "      <th>Almond_butter</th>\n",
       "      <th>Peanut_butter</th>\n",
       "      <th>Cashew_butter</th>\n",
       "    </tr>\n",
       "  </thead>\n",
       "  <tbody>\n",
       "    <tr>\n",
       "      <th>Mon</th>\n",
       "      <td>12</td>\n",
       "      <td>15</td>\n",
       "      <td>21</td>\n",
       "    </tr>\n",
       "    <tr>\n",
       "      <th>Tues</th>\n",
       "      <td>0</td>\n",
       "      <td>3</td>\n",
       "      <td>27</td>\n",
       "    </tr>\n",
       "    <tr>\n",
       "      <th>Wed</th>\n",
       "      <td>3</td>\n",
       "      <td>7</td>\n",
       "      <td>9</td>\n",
       "    </tr>\n",
       "    <tr>\n",
       "      <th>Thurs</th>\n",
       "      <td>19</td>\n",
       "      <td>21</td>\n",
       "      <td>18</td>\n",
       "    </tr>\n",
       "    <tr>\n",
       "      <th>Fri</th>\n",
       "      <td>4</td>\n",
       "      <td>23</td>\n",
       "      <td>6</td>\n",
       "    </tr>\n",
       "  </tbody>\n",
       "</table>\n",
       "</div>"
      ],
      "text/plain": [
       "       Almond_butter  Peanut_butter  Cashew_butter\n",
       "Mon               12             15             21\n",
       "Tues               0              3             27\n",
       "Wed                3              7              9\n",
       "Thurs             19             21             18\n",
       "Fri                4             23              6"
      ]
     },
     "execution_count": 248,
     "metadata": {},
     "output_type": "execute_result"
    }
   ],
   "source": [
    "weekly_sales"
   ]
  },
  {
   "cell_type": "code",
   "execution_count": 249,
   "id": "d3626c21-8690-47b4-8837-95119eaaa759",
   "metadata": {},
   "outputs": [
    {
     "data": {
      "text/plain": [
       "((1, 3), (5, 3))"
      ]
     },
     "execution_count": 249,
     "metadata": {},
     "output_type": "execute_result"
    }
   ],
   "source": [
    "butter_prices.shape, weekly_sales.shape"
   ]
  },
  {
   "cell_type": "code",
   "execution_count": 251,
   "id": "79a8a561-152b-4a62-9c4c-67882c5aaeba",
   "metadata": {},
   "outputs": [
    {
     "data": {
      "text/plain": [
       "(3, 5)"
      ]
     },
     "execution_count": 251,
     "metadata": {},
     "output_type": "execute_result"
    }
   ],
   "source": [
    "weekly_sales.T.shape"
   ]
  },
  {
   "cell_type": "code",
   "execution_count": 256,
   "id": "51eb2407-9995-4b2c-9c28-12874d763a94",
   "metadata": {},
   "outputs": [
    {
     "data": {
      "text/plain": [
       "(        Mon  Tues  Wed  Thurs  Fri\n",
       " prices  492   348  194    574  296,\n",
       " pandas.core.frame.DataFrame,\n",
       " (1, 5))"
      ]
     },
     "execution_count": 256,
     "metadata": {},
     "output_type": "execute_result"
    }
   ],
   "source": [
    "daily_sales = butter_prices.dot(weekly_sales.T)\n",
    "daily_sales, type(daily_sales), daily_sales.shape"
   ]
  },
  {
   "cell_type": "code",
   "execution_count": 257,
   "id": "0280c7f2-ec5b-4ce9-856a-9b0cb53b7150",
   "metadata": {},
   "outputs": [
    {
     "data": {
      "text/plain": [
       "(5, 3)"
      ]
     },
     "execution_count": 257,
     "metadata": {},
     "output_type": "execute_result"
    }
   ],
   "source": [
    "weekly_sales.shape"
   ]
  },
  {
   "cell_type": "code",
   "execution_count": null,
   "id": "f3a64db8-02a4-47a0-abe5-45ddd2b97259",
   "metadata": {},
   "outputs": [],
   "source": [
    "# doesnt works, not the right shape\n",
    "weekly_sales[\"Total ($)\"] = daily_sales\n",
    "weekly_sales"
   ]
  },
  {
   "cell_type": "code",
   "execution_count": 259,
   "id": "81151e85-44de-4579-bf93-6cf175fe4ce4",
   "metadata": {},
   "outputs": [
    {
     "data": {
      "text/html": [
       "<div>\n",
       "<style scoped>\n",
       "    .dataframe tbody tr th:only-of-type {\n",
       "        vertical-align: middle;\n",
       "    }\n",
       "\n",
       "    .dataframe tbody tr th {\n",
       "        vertical-align: top;\n",
       "    }\n",
       "\n",
       "    .dataframe thead th {\n",
       "        text-align: right;\n",
       "    }\n",
       "</style>\n",
       "<table border=\"1\" class=\"dataframe\">\n",
       "  <thead>\n",
       "    <tr style=\"text-align: right;\">\n",
       "      <th></th>\n",
       "      <th>Almond_butter</th>\n",
       "      <th>Peanut_butter</th>\n",
       "      <th>Cashew_butter</th>\n",
       "      <th>Total ($)</th>\n",
       "    </tr>\n",
       "  </thead>\n",
       "  <tbody>\n",
       "    <tr>\n",
       "      <th>Mon</th>\n",
       "      <td>12</td>\n",
       "      <td>15</td>\n",
       "      <td>21</td>\n",
       "      <td>492</td>\n",
       "    </tr>\n",
       "    <tr>\n",
       "      <th>Tues</th>\n",
       "      <td>0</td>\n",
       "      <td>3</td>\n",
       "      <td>27</td>\n",
       "      <td>348</td>\n",
       "    </tr>\n",
       "    <tr>\n",
       "      <th>Wed</th>\n",
       "      <td>3</td>\n",
       "      <td>7</td>\n",
       "      <td>9</td>\n",
       "      <td>194</td>\n",
       "    </tr>\n",
       "    <tr>\n",
       "      <th>Thurs</th>\n",
       "      <td>19</td>\n",
       "      <td>21</td>\n",
       "      <td>18</td>\n",
       "      <td>574</td>\n",
       "    </tr>\n",
       "    <tr>\n",
       "      <th>Fri</th>\n",
       "      <td>4</td>\n",
       "      <td>23</td>\n",
       "      <td>6</td>\n",
       "      <td>296</td>\n",
       "    </tr>\n",
       "  </tbody>\n",
       "</table>\n",
       "</div>"
      ],
      "text/plain": [
       "       Almond_butter  Peanut_butter  Cashew_butter  Total ($)\n",
       "Mon               12             15             21        492\n",
       "Tues               0              3             27        348\n",
       "Wed                3              7              9        194\n",
       "Thurs             19             21             18        574\n",
       "Fri                4             23              6        296"
      ]
     },
     "execution_count": 259,
     "metadata": {},
     "output_type": "execute_result"
    }
   ],
   "source": [
    "weekly_sales[\"Total ($)\"] = daily_sales.T\n",
    "weekly_sales"
   ]
  },
  {
   "cell_type": "markdown",
   "id": "158eeacd-2e44-4c83-bb54-77f0989e97e2",
   "metadata": {},
   "source": [
    "## comparison operators"
   ]
  },
  {
   "cell_type": "code",
   "execution_count": 260,
   "id": "518bbbea-94c3-4d89-972a-ab8ab0fc7d09",
   "metadata": {},
   "outputs": [
    {
     "data": {
      "text/plain": [
       "(array([1, 2, 3]),\n",
       " array([[1.  , 2.5 , 3.  ],\n",
       "        [4.01, 5.  , 6.  ]]),\n",
       " array([[[ 1,  2,  3],\n",
       "         [ 4,  5,  6]],\n",
       " \n",
       "        [[ 7,  8,  9],\n",
       "         [10, 11, 12]],\n",
       " \n",
       "        [[13, 14, 15],\n",
       "         [16, 17, 18]]]),\n",
       " array([[[ 1,  2,  3],\n",
       "         [ 4,  5,  6],\n",
       "         [ 7,  8,  9]],\n",
       " \n",
       "        [[10, 11, 12],\n",
       "         [13, 14, 15],\n",
       "         [16, 17, 18]]]))"
      ]
     },
     "execution_count": 260,
     "metadata": {},
     "output_type": "execute_result"
    }
   ],
   "source": [
    "a1, a2,a3, a4"
   ]
  },
  {
   "cell_type": "code",
   "execution_count": 263,
   "id": "3092afb9-1d05-4878-bae6-ac46e3b3a46a",
   "metadata": {},
   "outputs": [
    {
     "data": {
      "text/plain": [
       "array([[False, False, False],\n",
       "       [False, False, False]])"
      ]
     },
     "execution_count": 263,
     "metadata": {},
     "output_type": "execute_result"
    }
   ],
   "source": [
    "a1>a2"
   ]
  },
  {
   "cell_type": "code",
   "execution_count": 266,
   "id": "eba51d67-bd23-4084-8eed-78e490aacf82",
   "metadata": {},
   "outputs": [
    {
     "data": {
      "text/plain": [
       "array([[ True, False,  True],\n",
       "       [False, False, False]])"
      ]
     },
     "execution_count": 266,
     "metadata": {},
     "output_type": "execute_result"
    }
   ],
   "source": [
    "bool_type = a1>=a2\n",
    "bool_type"
   ]
  },
  {
   "cell_type": "code",
   "execution_count": 269,
   "id": "d35876dd-0108-4ecf-b7d6-676ba1d8e42a",
   "metadata": {},
   "outputs": [
    {
     "data": {
      "text/plain": [
       "(numpy.ndarray, dtype('bool'))"
      ]
     },
     "execution_count": 269,
     "metadata": {},
     "output_type": "execute_result"
    }
   ],
   "source": [
    "type(bool_type), bool_type.dtype"
   ]
  },
  {
   "cell_type": "code",
   "execution_count": 273,
   "id": "5209521b-3d15-47f0-b0cd-2a69060f27b7",
   "metadata": {},
   "outputs": [
    {
     "data": {
      "text/plain": [
       "array([False,  True,  True])"
      ]
     },
     "execution_count": 273,
     "metadata": {},
     "output_type": "execute_result"
    }
   ],
   "source": [
    "a1>1"
   ]
  },
  {
   "cell_type": "code",
   "execution_count": 274,
   "id": "d60a3dff-d5f3-451b-8561-4adf15d98b22",
   "metadata": {},
   "outputs": [
    {
     "data": {
      "text/plain": [
       "array([ True,  True,  True])"
      ]
     },
     "execution_count": 274,
     "metadata": {},
     "output_type": "execute_result"
    }
   ],
   "source": [
    "a1<5"
   ]
  },
  {
   "cell_type": "code",
   "execution_count": 275,
   "id": "c9b23e64-55ad-4036-a30f-d38e185cccfc",
   "metadata": {},
   "outputs": [
    {
     "data": {
      "text/plain": [
       "array([ True,  True,  True])"
      ]
     },
     "execution_count": 275,
     "metadata": {},
     "output_type": "execute_result"
    }
   ],
   "source": [
    "a1 == a1"
   ]
  },
  {
   "cell_type": "code",
   "execution_count": 276,
   "id": "3a2469a1-b58c-484a-b1c5-99286ee8289d",
   "metadata": {},
   "outputs": [
    {
     "data": {
      "text/plain": [
       "array([[ True, False,  True],\n",
       "       [False, False, False]])"
      ]
     },
     "execution_count": 276,
     "metadata": {},
     "output_type": "execute_result"
    }
   ],
   "source": [
    "a1 == a2"
   ]
  },
  {
   "cell_type": "markdown",
   "id": "4484a613-f1d0-4706-9445-94cd3dbe32c8",
   "metadata": {},
   "source": [
    "## sorting arrays"
   ]
  },
  {
   "cell_type": "code",
   "execution_count": 289,
   "id": "1ca97665-6424-4deb-bd25-075e3d46662e",
   "metadata": {},
   "outputs": [
    {
     "data": {
      "text/plain": [
       "array([[0, 4, 7, 3, 2],\n",
       "       [7, 2, 0, 0, 4],\n",
       "       [5, 5, 6, 8, 4]])"
      ]
     },
     "execution_count": 289,
     "metadata": {},
     "output_type": "execute_result"
    }
   ],
   "source": [
    "random_array = np.random.randint(10, size=(3,5))\n",
    "random_array"
   ]
  },
  {
   "cell_type": "code",
   "execution_count": 290,
   "id": "dbc4bc23-7cc6-436e-aefc-7bb849d7f1fb",
   "metadata": {},
   "outputs": [
    {
     "data": {
      "text/plain": [
       "(3, 5)"
      ]
     },
     "execution_count": 290,
     "metadata": {},
     "output_type": "execute_result"
    }
   ],
   "source": [
    "random_array.shape"
   ]
  },
  {
   "cell_type": "code",
   "execution_count": 291,
   "id": "ebfc0968-f634-4992-bffe-5776108b836f",
   "metadata": {},
   "outputs": [
    {
     "data": {
      "text/plain": [
       "array([[0, 2, 3, 4, 7],\n",
       "       [0, 0, 2, 4, 7],\n",
       "       [4, 5, 5, 6, 8]])"
      ]
     },
     "execution_count": 291,
     "metadata": {},
     "output_type": "execute_result"
    }
   ],
   "source": [
    "np.sort(random_array)"
   ]
  },
  {
   "cell_type": "code",
   "execution_count": 292,
   "id": "70c4416c-68ba-480a-8a31-50c427608079",
   "metadata": {},
   "outputs": [
    {
     "data": {
      "text/plain": [
       "array([[0, 4, 3, 1, 2],\n",
       "       [2, 3, 1, 4, 0],\n",
       "       [4, 0, 1, 2, 3]], dtype=int64)"
      ]
     },
     "execution_count": 292,
     "metadata": {},
     "output_type": "execute_result"
    }
   ],
   "source": [
    "np.argsort(random_array)"
   ]
  },
  {
   "cell_type": "code",
   "execution_count": 296,
   "id": "daa5c181-fe82-4eba-b2ff-26a5b393fc70",
   "metadata": {},
   "outputs": [
    {
     "data": {
      "text/plain": [
       "array([1, 2, 3])"
      ]
     },
     "execution_count": 296,
     "metadata": {},
     "output_type": "execute_result"
    }
   ],
   "source": [
    "a1"
   ]
  },
  {
   "cell_type": "code",
   "execution_count": 295,
   "id": "defd417e-0f46-4256-902b-f2b592036d6d",
   "metadata": {},
   "outputs": [
    {
     "data": {
      "text/plain": [
       "array([0, 1, 2], dtype=int64)"
      ]
     },
     "execution_count": 295,
     "metadata": {},
     "output_type": "execute_result"
    }
   ],
   "source": [
    "np.argsort(a1)"
   ]
  },
  {
   "cell_type": "code",
   "execution_count": 298,
   "id": "e05fe720-6c6d-48e2-9781-95f3c942d8ce",
   "metadata": {},
   "outputs": [
    {
     "data": {
      "text/plain": [
       "(0, 2)"
      ]
     },
     "execution_count": 298,
     "metadata": {},
     "output_type": "execute_result"
    }
   ],
   "source": [
    "np.argmin(a1),np.argmax(a1)"
   ]
  },
  {
   "cell_type": "code",
   "execution_count": 299,
   "id": "ed4151c8-25e9-445b-8826-6d0f830626b6",
   "metadata": {},
   "outputs": [
    {
     "data": {
      "text/plain": [
       "array([[0, 4, 7, 3, 2],\n",
       "       [7, 2, 0, 0, 4],\n",
       "       [5, 5, 6, 8, 4]])"
      ]
     },
     "execution_count": 299,
     "metadata": {},
     "output_type": "execute_result"
    }
   ],
   "source": [
    "random_array"
   ]
  },
  {
   "cell_type": "code",
   "execution_count": 303,
   "id": "b8767a63-f76e-4025-a3f7-7e0db1504741",
   "metadata": {},
   "outputs": [
    {
     "data": {
      "text/plain": [
       "array([1, 2, 0, 2, 1], dtype=int64)"
      ]
     },
     "execution_count": 303,
     "metadata": {},
     "output_type": "execute_result"
    }
   ],
   "source": [
    "np.argmax(random_array, axis=0)"
   ]
  },
  {
   "cell_type": "code",
   "execution_count": 304,
   "id": "334ed17d-ef6d-444e-ad76-0758f732e8ff",
   "metadata": {},
   "outputs": [
    {
     "data": {
      "text/plain": [
       "array([2, 0, 3], dtype=int64)"
      ]
     },
     "execution_count": 304,
     "metadata": {},
     "output_type": "execute_result"
    }
   ],
   "source": [
    "np.argmax(random_array, axis=1)"
   ]
  },
  {
   "cell_type": "markdown",
   "id": "ecbf126a-b412-4b7b-b732-f349cdcbe2e0",
   "metadata": {},
   "source": [
    "# TURN IMAGES INTO NUMPY ARRAYS"
   ]
  },
  {
   "cell_type": "markdown",
   "id": "09b1a93a-701a-4d1e-928b-1663f99876cf",
   "metadata": {},
   "source": [
    "x=![Panda Image](images/panda.png)"
   ]
  },
  {
   "cell_type": "code",
   "execution_count": 317,
   "id": "3f21935e-e767-4022-ad01-9afe4739eef1",
   "metadata": {},
   "outputs": [],
   "source": [
    "#<img src=\"image/pannda.png\"/>"
   ]
  },
  {
   "cell_type": "code",
   "execution_count": 318,
   "id": "55d8f772-561c-4ad2-abc7-acf54af2ff04",
   "metadata": {},
   "outputs": [
    {
     "name": "stdout",
     "output_type": "stream",
     "text": [
      "<class 'numpy.ndarray'>\n"
     ]
    }
   ],
   "source": [
    "#turn an image into a numpy array\n",
    "from matplotlib.image import imread\n",
    "panda = imread(\"images/panda.png\")\n",
    "print(type(panda))"
   ]
  },
  {
   "cell_type": "code",
   "execution_count": 320,
   "id": "5a96c406-49f4-429b-887f-22e969a3a303",
   "metadata": {},
   "outputs": [
    {
     "data": {
      "text/plain": [
       "(24465000, (2330, 3500, 3), 3)"
      ]
     },
     "execution_count": 320,
     "metadata": {},
     "output_type": "execute_result"
    }
   ],
   "source": [
    "panda.size, panda.shape, panda.ndim"
   ]
  },
  {
   "cell_type": "code",
   "execution_count": 321,
   "id": "b8b1f874-5d1c-43a7-b27a-c27ede294c9f",
   "metadata": {},
   "outputs": [
    {
     "data": {
      "text/plain": [
       "array([[[0.05490196, 0.10588235, 0.06666667],\n",
       "        [0.05490196, 0.10588235, 0.06666667],\n",
       "        [0.05490196, 0.10588235, 0.06666667],\n",
       "        ...,\n",
       "        [0.16470589, 0.12941177, 0.09411765],\n",
       "        [0.16470589, 0.12941177, 0.09411765],\n",
       "        [0.16470589, 0.12941177, 0.09411765]],\n",
       "\n",
       "       [[0.05490196, 0.10588235, 0.06666667],\n",
       "        [0.05490196, 0.10588235, 0.06666667],\n",
       "        [0.05490196, 0.10588235, 0.06666667],\n",
       "        ...,\n",
       "        [0.16470589, 0.12941177, 0.09411765],\n",
       "        [0.16470589, 0.12941177, 0.09411765],\n",
       "        [0.16470589, 0.12941177, 0.09411765]],\n",
       "\n",
       "       [[0.05490196, 0.10588235, 0.06666667],\n",
       "        [0.05490196, 0.10588235, 0.06666667],\n",
       "        [0.05490196, 0.10588235, 0.06666667],\n",
       "        ...,\n",
       "        [0.16470589, 0.12941177, 0.09411765],\n",
       "        [0.16470589, 0.12941177, 0.09411765],\n",
       "        [0.16470589, 0.12941177, 0.09411765]],\n",
       "\n",
       "       [[0.05490196, 0.10588235, 0.06666667],\n",
       "        [0.05490196, 0.10588235, 0.06666667],\n",
       "        [0.05490196, 0.10588235, 0.06666667],\n",
       "        ...,\n",
       "        [0.16862746, 0.13333334, 0.09803922],\n",
       "        [0.16862746, 0.13333334, 0.09803922],\n",
       "        [0.16862746, 0.13333334, 0.09803922]],\n",
       "\n",
       "       [[0.05490196, 0.10588235, 0.06666667],\n",
       "        [0.05490196, 0.10588235, 0.06666667],\n",
       "        [0.05490196, 0.10588235, 0.06666667],\n",
       "        ...,\n",
       "        [0.16862746, 0.13333334, 0.09803922],\n",
       "        [0.16862746, 0.13333334, 0.09803922],\n",
       "        [0.16862746, 0.13333334, 0.09803922]]], dtype=float32)"
      ]
     },
     "execution_count": 321,
     "metadata": {},
     "output_type": "execute_result"
    }
   ],
   "source": [
    "panda[:5]"
   ]
  },
  {
   "cell_type": "code",
   "execution_count": 329,
   "id": "1e320cba-b48e-454a-b10b-a123fff47a44",
   "metadata": {},
   "outputs": [
    {
     "ename": "SyntaxError",
     "evalue": "invalid syntax (4202550140.py, line 1)",
     "output_type": "error",
     "traceback": [
      "\u001b[1;36m  Cell \u001b[1;32mIn[329], line 1\u001b[1;36m\u001b[0m\n\u001b[1;33m    <img src=\"images/car-photo.png\"/>\u001b[0m\n\u001b[1;37m    ^\u001b[0m\n\u001b[1;31mSyntaxError\u001b[0m\u001b[1;31m:\u001b[0m invalid syntax\n"
     ]
    }
   ],
   "source": [
    "<img src=\"images/car-photo.png\"/>"
   ]
  },
  {
   "cell_type": "markdown",
   "id": "9b6c159e-6ee7-4102-8543-fae407b4b9c8",
   "metadata": {},
   "source": [
    "y= ![Car Image](images/car-photo.png)"
   ]
  },
  {
   "cell_type": "code",
   "execution_count": 324,
   "id": "b7def3c3-3442-40f7-a481-b4778ea9a3b5",
   "metadata": {},
   "outputs": [
    {
     "name": "stdout",
     "output_type": "stream",
     "text": [
      "<class 'numpy.ndarray'>\n"
     ]
    }
   ],
   "source": [
    "car = imread(\"images/panda.png\")\n",
    "print(type(car))"
   ]
  },
  {
   "cell_type": "code",
   "execution_count": 325,
   "id": "934c6af2-2ad3-42b2-89cb-89cc54558430",
   "metadata": {},
   "outputs": [
    {
     "data": {
      "text/plain": [
       "array([[[0.05490196, 0.10588235, 0.06666667],\n",
       "        [0.05490196, 0.10588235, 0.06666667],\n",
       "        [0.05490196, 0.10588235, 0.06666667],\n",
       "        ...,\n",
       "        [0.16470589, 0.12941177, 0.09411765],\n",
       "        [0.16470589, 0.12941177, 0.09411765],\n",
       "        [0.16470589, 0.12941177, 0.09411765]],\n",
       "\n",
       "       [[0.05490196, 0.10588235, 0.06666667],\n",
       "        [0.05490196, 0.10588235, 0.06666667],\n",
       "        [0.05490196, 0.10588235, 0.06666667],\n",
       "        ...,\n",
       "        [0.16470589, 0.12941177, 0.09411765],\n",
       "        [0.16470589, 0.12941177, 0.09411765],\n",
       "        [0.16470589, 0.12941177, 0.09411765]],\n",
       "\n",
       "       [[0.05490196, 0.10588235, 0.06666667],\n",
       "        [0.05490196, 0.10588235, 0.06666667],\n",
       "        [0.05490196, 0.10588235, 0.06666667],\n",
       "        ...,\n",
       "        [0.16470589, 0.12941177, 0.09411765],\n",
       "        [0.16470589, 0.12941177, 0.09411765],\n",
       "        [0.16470589, 0.12941177, 0.09411765]],\n",
       "\n",
       "       ...,\n",
       "\n",
       "       [[0.13333334, 0.07450981, 0.05490196],\n",
       "        [0.12156863, 0.0627451 , 0.04313726],\n",
       "        [0.10980392, 0.05098039, 0.03137255],\n",
       "        ...,\n",
       "        [0.02745098, 0.02745098, 0.03529412],\n",
       "        [0.02745098, 0.02745098, 0.03529412],\n",
       "        [0.02745098, 0.02745098, 0.03529412]],\n",
       "\n",
       "       [[0.13333334, 0.07450981, 0.05490196],\n",
       "        [0.12156863, 0.0627451 , 0.04313726],\n",
       "        [0.12156863, 0.0627451 , 0.04313726],\n",
       "        ...,\n",
       "        [0.02352941, 0.02352941, 0.03137255],\n",
       "        [0.02352941, 0.02352941, 0.03137255],\n",
       "        [0.02352941, 0.02352941, 0.03137255]],\n",
       "\n",
       "       [[0.13333334, 0.07450981, 0.05490196],\n",
       "        [0.12156863, 0.0627451 , 0.04313726],\n",
       "        [0.12156863, 0.0627451 , 0.04313726],\n",
       "        ...,\n",
       "        [0.02352941, 0.02352941, 0.03137255],\n",
       "        [0.02352941, 0.02352941, 0.03137255],\n",
       "        [0.02352941, 0.02352941, 0.03137255]]], dtype=float32)"
      ]
     },
     "execution_count": 325,
     "metadata": {},
     "output_type": "execute_result"
    }
   ],
   "source": [
    "car"
   ]
  },
  {
   "cell_type": "code",
   "execution_count": 326,
   "id": "c7352eec-c1c4-44cb-8ec6-770df4a754bd",
   "metadata": {},
   "outputs": [
    {
     "data": {
      "text/plain": [
       "array([[[0.05490196, 0.10588235, 0.06666667],\n",
       "        [0.05490196, 0.10588235, 0.06666667],\n",
       "        [0.05490196, 0.10588235, 0.06666667],\n",
       "        ...,\n",
       "        [0.16470589, 0.12941177, 0.09411765],\n",
       "        [0.16470589, 0.12941177, 0.09411765],\n",
       "        [0.16470589, 0.12941177, 0.09411765]]], dtype=float32)"
      ]
     },
     "execution_count": 326,
     "metadata": {},
     "output_type": "execute_result"
    }
   ],
   "source": [
    "car[:1]"
   ]
  },
  {
   "cell_type": "code",
   "execution_count": 327,
   "id": "b55f1771-d549-4591-8ff1-eb7424f31aa7",
   "metadata": {},
   "outputs": [
    {
     "name": "stdout",
     "output_type": "stream",
     "text": [
      "<class 'numpy.ndarray'>\n"
     ]
    }
   ],
   "source": [
    "dog = imread(\"images/dog-photo.png\")\n",
    "print(type(dog))"
   ]
  },
  {
   "cell_type": "code",
   "execution_count": 331,
   "id": "501a6757-3fcf-46ff-9b14-166817c33785",
   "metadata": {},
   "outputs": [
    {
     "data": {
      "text/plain": [
       "array([[[0.70980394, 0.80784315, 0.88235295, 1.        ],\n",
       "        [0.72156864, 0.8117647 , 0.8862745 , 1.        ],\n",
       "        [0.7411765 , 0.8156863 , 0.8862745 , 1.        ],\n",
       "        ...,\n",
       "        [0.49803922, 0.6862745 , 0.8392157 , 1.        ],\n",
       "        [0.49411765, 0.68235296, 0.8392157 , 1.        ],\n",
       "        [0.49411765, 0.68235296, 0.8352941 , 1.        ]]], dtype=float32)"
      ]
     },
     "execution_count": 331,
     "metadata": {},
     "output_type": "execute_result"
    }
   ],
   "source": [
    "dog[:1]"
   ]
  },
  {
   "cell_type": "code",
   "execution_count": null,
   "id": "4a52bde0-0ba2-446c-828a-0c1fe3bba364",
   "metadata": {},
   "outputs": [],
   "source": []
  }
 ],
 "metadata": {
  "kernelspec": {
   "display_name": "Python 3 (ipykernel)",
   "language": "python",
   "name": "python3"
  },
  "language_info": {
   "codemirror_mode": {
    "name": "ipython",
    "version": 3
   },
   "file_extension": ".py",
   "mimetype": "text/x-python",
   "name": "python",
   "nbconvert_exporter": "python",
   "pygments_lexer": "ipython3",
   "version": "3.12.3"
  }
 },
 "nbformat": 4,
 "nbformat_minor": 5
}
